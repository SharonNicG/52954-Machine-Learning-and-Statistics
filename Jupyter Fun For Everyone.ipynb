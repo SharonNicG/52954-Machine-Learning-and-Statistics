{
 "cells": [
  {
   "cell_type": "code",
   "execution_count": 1,
   "id": "e4a51c80-eeb6-489a-9baa-e29f3dcdb214",
   "metadata": {},
   "outputs": [],
   "source": [
    "i = 1\n",
    "j = 2"
   ]
  },
  {
   "cell_type": "code",
   "execution_count": 2,
   "id": "aae93214-7ec1-4a2d-963e-57d0f84131b8",
   "metadata": {},
   "outputs": [],
   "source": [
    "k = i+j"
   ]
  },
  {
   "cell_type": "code",
   "execution_count": 3,
   "id": "40bfcba9-4e63-46a8-936f-6d2c9fec1666",
   "metadata": {},
   "outputs": [
    {
     "data": {
      "text/plain": [
       "3"
      ]
     },
     "execution_count": 3,
     "metadata": {},
     "output_type": "execute_result"
    }
   ],
   "source": [
    "k"
   ]
  },
  {
   "cell_type": "markdown",
   "id": "38c8b558-f755-46c9-8729-ea46388cdc9b",
   "metadata": {},
   "source": [
    "# Heading 1 \n",
    "\n",
    "- I am a list.\n",
    "- I am a list.\n",
    "- I am a list.\n",
    "\n",
    "![](https://ih1.redbubble.net/image.1408689744.1861/flat,128x128,075,t-pad,128x128,f8f8f8.jpg)\n"
   ]
  },
  {
   "cell_type": "code",
   "execution_count": null,
   "id": "c1fc19d7-eaf5-4a27-a88f-afad03b0e306",
   "metadata": {},
   "outputs": [],
   "source": []
  }
 ],
 "metadata": {
  "kernelspec": {
   "display_name": "Python 3",
   "language": "python",
   "name": "python3"
  },
  "language_info": {
   "codemirror_mode": {
    "name": "ipython",
    "version": 3
   },
   "file_extension": ".py",
   "mimetype": "text/x-python",
   "name": "python",
   "nbconvert_exporter": "python",
   "pygments_lexer": "ipython3",
   "version": "3.8.8"
  }
 },
 "nbformat": 4,
 "nbformat_minor": 5
}
