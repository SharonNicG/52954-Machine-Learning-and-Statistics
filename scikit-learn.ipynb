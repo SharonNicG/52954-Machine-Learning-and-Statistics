{
 "cells": [
  {
   "cell_type": "code",
   "execution_count": 12,
   "id": "fa24553a-d7d0-4c32-bace-33ad75e2630d",
   "metadata": {},
   "outputs": [],
   "source": [
    "# scikit-learn"
   ]
  },
  {
   "cell_type": "code",
   "execution_count": null,
   "id": "717bdcb6-5b36-4ac3-b65b-d5daee317fa8",
   "metadata": {},
   "outputs": [],
   "source": []
  },
  {
   "cell_type": "code",
   "execution_count": null,
   "id": "97c184c1-bccc-4d04-bb59-98893fe38e26",
   "metadata": {},
   "outputs": [],
   "source": []
  },
  {
   "cell_type": "code",
   "execution_count": null,
   "id": "bad74390-95f1-42a9-9848-5bc80c22ed4b",
   "metadata": {},
   "outputs": [],
   "source": []
  },
  {
   "cell_type": "code",
   "execution_count": null,
   "id": "2c3ae428-02ae-4491-a3c2-cd4d422bef58",
   "metadata": {},
   "outputs": [],
   "source": []
  },
  {
   "cell_type": "code",
   "execution_count": 13,
   "id": "6c97c501-2856-4489-9afc-979fc8971e1d",
   "metadata": {},
   "outputs": [],
   "source": [
    "# References"
   ]
  },
  {
   "cell_type": "markdown",
   "id": "482ee70c-26e9-4d9b-89e0-706491636c8c",
   "metadata": {},
   "source": [
    "[1](https://scikit-learn.org/stable/tutorial/index.html)"
   ]
  },
  {
   "cell_type": "code",
   "execution_count": 15,
   "id": "26156d41-9be8-4fd1-81e7-a29ebfc574c7",
   "metadata": {},
   "outputs": [],
   "source": [
    "# End"
   ]
  },
  {
   "cell_type": "code",
   "execution_count": null,
   "id": "1946fdcc-9ac9-4d25-ad5c-590ae012507b",
   "metadata": {},
   "outputs": [],
   "source": []
  }
 ],
 "metadata": {
  "kernelspec": {
   "display_name": "Python 3",
   "language": "python",
   "name": "python3"
  },
  "language_info": {
   "codemirror_mode": {
    "name": "ipython",
    "version": 3
   },
   "file_extension": ".py",
   "mimetype": "text/x-python",
   "name": "python",
   "nbconvert_exporter": "python",
   "pygments_lexer": "ipython3",
   "version": "3.8.8"
  }
 },
 "nbformat": 4,
 "nbformat_minor": 5
}
