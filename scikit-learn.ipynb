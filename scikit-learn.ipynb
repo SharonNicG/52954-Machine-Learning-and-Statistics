{
 "cells": [
  {
   "cell_type": "code",
   "execution_count": 91,
   "id": "fa24553a-d7d0-4c32-bace-33ad75e2630d",
   "metadata": {},
   "outputs": [],
   "source": [
    "# Numerical arrays\n",
    "import numpy as np"
   ]
  },
  {
   "cell_type": "code",
   "execution_count": 92,
   "id": "717bdcb6-5b36-4ac3-b65b-d5daee317fa8",
   "metadata": {},
   "outputs": [],
   "source": [
    "# Data frames\n",
    "import pandas as pd"
   ]
  },
  {
   "cell_type": "code",
   "execution_count": 93,
   "id": "e110a9c6-ccf4-480f-84a8-000abe068980",
   "metadata": {},
   "outputs": [],
   "source": [
    "# Read CSV data quickly into Pandas\n",
    "from pandas import read_csv"
   ]
  },
  {
   "cell_type": "code",
   "execution_count": 94,
   "id": "152fc088-2467-4462-a0e7-b050cfe2033d",
   "metadata": {},
   "outputs": [],
   "source": [
    "# Customise display-related options\n",
    "from pandas import set_option"
   ]
  },
  {
   "cell_type": "code",
   "execution_count": 95,
   "id": "cb6004c2-c702-4e8a-9b09-27e50d026f97",
   "metadata": {},
   "outputs": [],
   "source": [
    "# Explore trends in data\n",
    "# https://www.marsja.se/pandas-scatter-matrix-pair-plot/\n",
    "from pandas.plotting import scatter_matrix"
   ]
  },
  {
   "cell_type": "code",
   "execution_count": 96,
   "id": "97c184c1-bccc-4d04-bb59-98893fe38e26",
   "metadata": {},
   "outputs": [],
   "source": [
    "# Plotting\n",
    "import matplotlib.pyplot as plt"
   ]
  },
  {
   "cell_type": "code",
   "execution_count": 97,
   "id": "b1b4477c-cb8b-4fc6-a361-c2b40270205f",
   "metadata": {},
   "outputs": [],
   "source": [
    "# pyplot is a module that is a simple and easy way to construct plots\n",
    "from matplotlib import pyplot"
   ]
  },
  {
   "cell_type": "code",
   "execution_count": 98,
   "id": "ff4eed9a-3a00-47c1-ae3f-5b44d75d4a3e",
   "metadata": {},
   "outputs": [],
   "source": [
    "# Allows matplotlib graphs to be included in the notebook next to the code\n",
    "%matplotlib inline"
   ]
  },
  {
   "cell_type": "code",
   "execution_count": 99,
   "id": "bad74390-95f1-42a9-9848-5bc80c22ed4b",
   "metadata": {},
   "outputs": [],
   "source": [
    "# Fancier, statistical plots\n",
    "import seaborn as sns"
   ]
  },
  {
   "cell_type": "code",
   "execution_count": 100,
   "id": "2c3ae428-02ae-4491-a3c2-cd4d422bef58",
   "metadata": {},
   "outputs": [],
   "source": [
    "from sklearn.model_selection import train_test_split"
   ]
  },
  {
   "cell_type": "code",
   "execution_count": 101,
   "id": "7a446f9d-6d74-4dfb-989c-8aecc7d6c26a",
   "metadata": {},
   "outputs": [],
   "source": [
    "from sklearn.linear_model import LinearRegression"
   ]
  },
  {
   "cell_type": "code",
   "execution_count": 102,
   "id": "3762a052-21b1-488c-b104-dd0e9b4d60c9",
   "metadata": {},
   "outputs": [],
   "source": [
    "from sklearn import metrics"
   ]
  },
  {
   "cell_type": "code",
   "execution_count": null,
   "id": "c9f1b480-d1d9-4290-a34a-2a252e5d96e1",
   "metadata": {},
   "outputs": [],
   "source": []
  },
  {
   "cell_type": "code",
   "execution_count": null,
   "id": "e8b193f4-22d6-4b97-a3ca-16791f2412a9",
   "metadata": {},
   "outputs": [],
   "source": []
  },
  {
   "cell_type": "markdown",
   "id": "15cece74-b416-46f3-8bb5-292a9ae6febd",
   "metadata": {},
   "source": [
    "## Linear Regression"
   ]
  },
  {
   "cell_type": "code",
   "execution_count": null,
   "id": "fc50df80-5b10-4ac2-9088-b91aae8ecf49",
   "metadata": {},
   "outputs": [],
   "source": []
  },
  {
   "cell_type": "code",
   "execution_count": null,
   "id": "c11016e3-f72b-4f12-a00e-50270741fcda",
   "metadata": {},
   "outputs": [],
   "source": []
  },
  {
   "cell_type": "markdown",
   "id": "789bf2ed-24c2-4e84-98b1-9c54a2341e41",
   "metadata": {},
   "source": [
    "Boston House Price Dataset\n",
    "---------------------------"
   ]
  },
  {
   "cell_type": "markdown",
   "id": "2a0a8c7e-9497-447d-b16c-5f50d095015e",
   "metadata": {},
   "source": [
    "The Boston House Price dataset contains information about different houses in a Boston suburb or town drawn from the Boston Standard Metropolitan Statistical Area (SMSA) in 1970.\n",
    "\n",
    "This data was previously a part of the UCI Machine Learning Repository and was inbuilt to the scikit-learn library. It has since been removed from the UCI Machine Learning Repository and is being removed from the scikit-learn library. This is due to ethical issues around assumptions made in creating the dataset and the validity of its purpose. More information on this is available here: https://scikit-learn.org/stable/modules/generated/sklearn.datasets.load_boston.html.\n",
    "\n",
    "An important lesson for anyone working with data is to trust but verify."
   ]
  },
  {
   "cell_type": "code",
   "execution_count": 103,
   "id": "f8945b6f-3291-4e0a-b79d-752e36860d75",
   "metadata": {},
   "outputs": [],
   "source": [
    "# from sklearn.datasets import load_boston\n",
    "# df_boston = load_boston()\n",
    "# print(df_boston.DESCR)"
   ]
  },
  {
   "cell_type": "markdown",
   "id": "a37e0242-bad3-41b7-b09f-7326429dba71",
   "metadata": {},
   "source": [
    "To futureproof the functioning of this notebook, given the availability change, the dataset was downloaded and read into the notebook from a CSV file."
   ]
  },
  {
   "cell_type": "code",
   "execution_count": 104,
   "id": "766d6c8d-6633-46b1-8142-eaa8f4fd2905",
   "metadata": {},
   "outputs": [],
   "source": [
    "filename = 'housing.csv'"
   ]
  },
  {
   "cell_type": "code",
   "execution_count": 105,
   "id": "0a2fb3c3-7ee5-471b-8597-293681b0df2c",
   "metadata": {},
   "outputs": [],
   "source": [
    "dataset = read_csv(filename, delim_whitespace=True, names=names)"
   ]
  },
  {
   "cell_type": "markdown",
   "id": "6a4a0859-ed85-4747-b2ce-bd3b9044a0cf",
   "metadata": {},
   "source": [
    "Details of the dataset characteristics available as part of the UCI Machine Learning Repository and scikit-learn library are reproduced below."
   ]
  },
  {
   "cell_type": "markdown",
   "id": "b3b25845-e746-4830-923c-e1af9cea7bcf",
   "metadata": {},
   "source": [
    "**Data Set Characteristics**  \n",
    "\n",
    "    Number of Instances: 506 \n",
    "\n",
    "    Number of Attributes: 13 numeric/categorical predictive. Median Value (attribute 14) is usually the target.\n",
    "\n",
    "    Attribute Information (in order):\n",
    "        - CRIM     per capita crime rate by town\n",
    "        - ZN       proportion of residential land zoned for lots over 25,000 sq.ft.\n",
    "        - INDUS    proportion of non-retail business acres per town\n",
    "        - CHAS     Charles River dummy variable (= 1 if tract bounds river; 0 otherwise)\n",
    "        - NOX      nitric oxides concentration (parts per 10 million)\n",
    "        - RM       average number of rooms per dwelling\n",
    "        - AGE      proportion of owner-occupied units built prior to 1940\n",
    "        - DIS      weighted distances to five Boston employment centres\n",
    "        - RAD      index of accessibility to radial highways\n",
    "        - TAX      full-value property-tax rate per $10,000\n",
    "        - PTRATIO  pupil-teacher ratio by town\n",
    "        - B        1000(Bk - 0.63)^2 where Bk is the proportion of blacks by town\n",
    "        - LSTAT    % lower status of the population\n",
    "        - MEDV     Median value of owner-occupied homes in $1000's\n",
    "\n",
    "    Missing Attribute Values: None\n",
    "\n",
    "    Creator: Harrison, D. and Rubinfeld, D.L.\n",
    "\n",
    "References\n",
    "\n",
    "- Belsley, Kuh & Welsch, 'Regression diagnostics: Identifying Influential Data and Sources of Collinearity', Wiley, 1980. 244-261.\n",
    "- Quinlan,R. (1993). Combining Instance-Based and Model-Based Learning. In Proceedings on the Tenth International Conference of Machine Learning, 236-243, University of Massachusetts, Amherst. Morgan Kaufmann."
   ]
  },
  {
   "cell_type": "markdown",
   "id": "8f685ac6-a60a-44fb-af3c-ea3d9a3946aa",
   "metadata": {},
   "source": [
    "The version downloaded from http://lib.stat.cmu.edu/datasets/boston appears to have been processed. However, online research shows that other dataset versions are missing values. No missing values are recorded in this dataset.\n",
    "\n",
    "For easier referencing late in the model, the attributes have been assigned short names matching those used by the UCI Machine Learning Repository and the scikit-learn library."
   ]
  },
  {
   "cell_type": "code",
   "execution_count": 106,
   "id": "6aee48aa-d48e-4cfb-b25e-ea16d8af54ed",
   "metadata": {},
   "outputs": [],
   "source": [
    "names = ['CRIM', 'ZN', 'INDUS', 'CHAS', 'NOX', 'RM', 'AGE', 'DIS', 'RAD', 'TAX', 'PTRATIO', 'B', 'LSTAT', 'MEDV']"
   ]
  },
  {
   "cell_type": "markdown",
   "id": "f1edafb0-59db-4e99-a270-b4ab905ee64c",
   "metadata": {},
   "source": [
    "**Analyze Data**\n",
    "\n",
    "An initial look at the loaded data.\n",
    "\n",
    "Confirming the dimensions of the dataset - the number of rows and columns - match the characteristics expected."
   ]
  },
  {
   "cell_type": "markdown",
   "id": "4595e706-9f57-429c-b648-9efbf7d1472b",
   "metadata": {},
   "source": [
    "Confirming the dimensions of the dataset - the number of rows and columns - match the characteristics expected."
   ]
  },
  {
   "cell_type": "code",
   "execution_count": 107,
   "id": "c5dba642-ede7-4ada-bb6a-7aa669eb9bd3",
   "metadata": {},
   "outputs": [
    {
     "name": "stdout",
     "output_type": "stream",
     "text": [
      "(506, 14)\n"
     ]
    }
   ],
   "source": [
    "print(dataset.shape)"
   ]
  },
  {
   "cell_type": "markdown",
   "id": "8c44b627-0f9a-470f-97f3-7fa303dcf4d6",
   "metadata": {},
   "source": [
    "The results show 506 data instances with 14 attributes.\n",
    "\n",
    "Now that we know the size and shape of the data, let's look at the types of data associated with each attribute."
   ]
  },
  {
   "cell_type": "code",
   "execution_count": 108,
   "id": "91b39166-96b2-4915-8ec4-607f17f59a98",
   "metadata": {},
   "outputs": [
    {
     "name": "stdout",
     "output_type": "stream",
     "text": [
      "CRIM       float64\n",
      "ZN         float64\n",
      "INDUS      float64\n",
      "CHAS         int64\n",
      "NOX        float64\n",
      "RM         float64\n",
      "AGE        float64\n",
      "DIS        float64\n",
      "RAD          int64\n",
      "TAX        float64\n",
      "PTRATIO    float64\n",
      "B          float64\n",
      "LSTAT      float64\n",
      "MEDV       float64\n",
      "dtype: object\n"
     ]
    }
   ],
   "source": [
    "print(dataset.dtypes)"
   ]
  },
  {
   "cell_type": "markdown",
   "id": "b57a78b9-b435-446c-af06-cd6c7f8d50d6",
   "metadata": {},
   "source": [
    "All attributes are numeric, mostly floats, and two are integers.\n",
    "\n",
    "The next step is to have a quick look at the data (the first 20 rows of the dataset) to see what it looks like. "
   ]
  },
  {
   "cell_type": "code",
   "execution_count": 109,
   "id": "499be634-92d4-4aa5-8084-28b3202a7c0c",
   "metadata": {},
   "outputs": [
    {
     "name": "stdout",
     "output_type": "stream",
     "text": [
      "        CRIM    ZN  INDUS  CHAS   NOX    RM    AGE   DIS  RAD    TAX  PTRATIO  \\\n",
      "0   6.32e-03  18.0   2.31     0  0.54  6.58   65.2  4.09    1  296.0     15.3   \n",
      "1   2.73e-02   0.0   7.07     0  0.47  6.42   78.9  4.97    2  242.0     17.8   \n",
      "2   2.73e-02   0.0   7.07     0  0.47  7.18   61.1  4.97    2  242.0     17.8   \n",
      "3   3.24e-02   0.0   2.18     0  0.46  7.00   45.8  6.06    3  222.0     18.7   \n",
      "4   6.91e-02   0.0   2.18     0  0.46  7.15   54.2  6.06    3  222.0     18.7   \n",
      "5   2.99e-02   0.0   2.18     0  0.46  6.43   58.7  6.06    3  222.0     18.7   \n",
      "6   8.83e-02  12.5   7.87     0  0.52  6.01   66.6  5.56    5  311.0     15.2   \n",
      "7   1.45e-01  12.5   7.87     0  0.52  6.17   96.1  5.95    5  311.0     15.2   \n",
      "8   2.11e-01  12.5   7.87     0  0.52  5.63  100.0  6.08    5  311.0     15.2   \n",
      "9   1.70e-01  12.5   7.87     0  0.52  6.00   85.9  6.59    5  311.0     15.2   \n",
      "10  2.25e-01  12.5   7.87     0  0.52  6.38   94.3  6.35    5  311.0     15.2   \n",
      "11  1.17e-01  12.5   7.87     0  0.52  6.01   82.9  6.23    5  311.0     15.2   \n",
      "12  9.38e-02  12.5   7.87     0  0.52  5.89   39.0  5.45    5  311.0     15.2   \n",
      "13  6.30e-01   0.0   8.14     0  0.54  5.95   61.8  4.71    4  307.0     21.0   \n",
      "14  6.38e-01   0.0   8.14     0  0.54  6.10   84.5  4.46    4  307.0     21.0   \n",
      "15  6.27e-01   0.0   8.14     0  0.54  5.83   56.5  4.50    4  307.0     21.0   \n",
      "16  1.05e+00   0.0   8.14     0  0.54  5.93   29.3  4.50    4  307.0     21.0   \n",
      "17  7.84e-01   0.0   8.14     0  0.54  5.99   81.7  4.26    4  307.0     21.0   \n",
      "18  8.03e-01   0.0   8.14     0  0.54  5.46   36.6  3.80    4  307.0     21.0   \n",
      "19  7.26e-01   0.0   8.14     0  0.54  5.73   69.5  3.80    4  307.0     21.0   \n",
      "\n",
      "         B  LSTAT  MEDV  \n",
      "0   396.90   4.98  24.0  \n",
      "1   396.90   9.14  21.6  \n",
      "2   392.83   4.03  34.7  \n",
      "3   394.63   2.94  33.4  \n",
      "4   396.90   5.33  36.2  \n",
      "5   394.12   5.21  28.7  \n",
      "6   395.60  12.43  22.9  \n",
      "7   396.90  19.15  27.1  \n",
      "8   386.63  29.93  16.5  \n",
      "9   386.71  17.10  18.9  \n",
      "10  392.52  20.45  15.0  \n",
      "11  396.90  13.27  18.9  \n",
      "12  390.50  15.71  21.7  \n",
      "13  396.90   8.26  20.4  \n",
      "14  380.02  10.26  18.2  \n",
      "15  395.62   8.47  19.9  \n",
      "16  386.85   6.58  23.1  \n",
      "17  386.75  14.67  17.5  \n",
      "18  288.99  11.69  20.2  \n",
      "19  390.95  11.28  18.2  \n"
     ]
    }
   ],
   "source": [
    "print(dataset.head(20))"
   ]
  },
  {
   "cell_type": "markdown",
   "id": "1f07bf13-d04c-4e6a-9bfe-c76231ee1d9a",
   "metadata": {},
   "source": [
    "The values associated with each attribute varies widely (e.g. RAD 1-5 and CRIM 1.05-9.38).\n",
    "\n",
    "To get a better feel for the ranges of these distributions, we can request the statistical descriptions of each attribute. Setting the precision for the data will make it easier for the floats (the primary data type).\n",
    "\n",
    "References: https://towardsdatascience.com/8-commonly-used-pandas-display-options-you-should-know-a832365efa95"
   ]
  },
  {
   "cell_type": "code",
   "execution_count": 110,
   "id": "497d2710-61dd-45c6-89d2-9b6bae584ace",
   "metadata": {},
   "outputs": [
    {
     "name": "stdout",
     "output_type": "stream",
     "text": [
      "           CRIM      ZN   INDUS    CHAS     NOX      RM     AGE     DIS  \\\n",
      "count  5.06e+02  506.00  506.00  506.00  506.00  506.00  506.00  506.00   \n",
      "mean   3.61e+00   11.36   11.14    0.07    0.55    6.28   68.57    3.80   \n",
      "std    8.60e+00   23.32    6.86    0.25    0.12    0.70   28.15    2.11   \n",
      "min    6.32e-03    0.00    0.46    0.00    0.39    3.56    2.90    1.13   \n",
      "25%    8.20e-02    0.00    5.19    0.00    0.45    5.89   45.02    2.10   \n",
      "50%    2.57e-01    0.00    9.69    0.00    0.54    6.21   77.50    3.21   \n",
      "75%    3.68e+00   12.50   18.10    0.00    0.62    6.62   94.07    5.19   \n",
      "max    8.90e+01  100.00   27.74    1.00    0.87    8.78  100.00   12.13   \n",
      "\n",
      "          RAD     TAX  PTRATIO       B   LSTAT    MEDV  \n",
      "count  506.00  506.00   506.00  506.00  506.00  506.00  \n",
      "mean     9.55  408.24    18.46  356.67   12.65   22.53  \n",
      "std      8.71  168.54     2.16   91.29    7.14    9.20  \n",
      "min      1.00  187.00    12.60    0.32    1.73    5.00  \n",
      "25%      4.00  279.00    17.40  375.38    6.95   17.02  \n",
      "50%      5.00  330.00    19.05  391.44   11.36   21.20  \n",
      "75%     24.00  666.00    20.20  396.23   16.96   25.00  \n",
      "max     24.00  711.00    22.00  396.90   37.97   50.00  \n"
     ]
    }
   ],
   "source": [
    "set_option('precision', 2)\n",
    "print(dataset.describe())"
   ]
  },
  {
   "cell_type": "markdown",
   "id": "4c89d530-6971-4b0f-ba73-765147b8d941",
   "metadata": {},
   "source": [
    "Again there is a wide variation staticial values ofr each attribute (e.g. CRIM min = 6.32 amd TAX min = 187.00).\n",
    "\n",
    "Finally, we can look at the correlation between the attribute columns for this initial analysis.\n",
    "The Pearson method is used here. This is the standard correlation coefficient - it measures the strength of a linear association between two variables.\n",
    "\n",
    "Reference: https://towardsdatascience.com/pearson-coefficient-of-correlation-explained-369991d93404"
   ]
  },
  {
   "cell_type": "code",
   "execution_count": 111,
   "id": "d7185001-e043-4f5d-b520-44da40246f85",
   "metadata": {},
   "outputs": [
    {
     "name": "stdout",
     "output_type": "stream",
     "text": [
      "         CRIM    ZN  INDUS      CHAS   NOX    RM   AGE   DIS       RAD   TAX  \\\n",
      "CRIM     1.00 -0.20   0.41 -5.59e-02  0.42 -0.22  0.35 -0.38  6.26e-01  0.58   \n",
      "ZN      -0.20  1.00  -0.53 -4.27e-02 -0.52  0.31 -0.57  0.66 -3.12e-01 -0.31   \n",
      "INDUS    0.41 -0.53   1.00  6.29e-02  0.76 -0.39  0.64 -0.71  5.95e-01  0.72   \n",
      "CHAS    -0.06 -0.04   0.06  1.00e+00  0.09  0.09  0.09 -0.10 -7.37e-03 -0.04   \n",
      "NOX      0.42 -0.52   0.76  9.12e-02  1.00 -0.30  0.73 -0.77  6.11e-01  0.67   \n",
      "RM      -0.22  0.31  -0.39  9.13e-02 -0.30  1.00 -0.24  0.21 -2.10e-01 -0.29   \n",
      "AGE      0.35 -0.57   0.64  8.65e-02  0.73 -0.24  1.00 -0.75  4.56e-01  0.51   \n",
      "DIS     -0.38  0.66  -0.71 -9.92e-02 -0.77  0.21 -0.75  1.00 -4.95e-01 -0.53   \n",
      "RAD      0.63 -0.31   0.60 -7.37e-03  0.61 -0.21  0.46 -0.49  1.00e+00  0.91   \n",
      "TAX      0.58 -0.31   0.72 -3.56e-02  0.67 -0.29  0.51 -0.53  9.10e-01  1.00   \n",
      "PTRATIO  0.29 -0.39   0.38 -1.22e-01  0.19 -0.36  0.26 -0.23  4.65e-01  0.46   \n",
      "B       -0.39  0.18  -0.36  4.88e-02 -0.38  0.13 -0.27  0.29 -4.44e-01 -0.44   \n",
      "LSTAT    0.46 -0.41   0.60 -5.39e-02  0.59 -0.61  0.60 -0.50  4.89e-01  0.54   \n",
      "MEDV    -0.39  0.36  -0.48  1.75e-01 -0.43  0.70 -0.38  0.25 -3.82e-01 -0.47   \n",
      "\n",
      "         PTRATIO     B  LSTAT  MEDV  \n",
      "CRIM        0.29 -0.39   0.46 -0.39  \n",
      "ZN         -0.39  0.18  -0.41  0.36  \n",
      "INDUS       0.38 -0.36   0.60 -0.48  \n",
      "CHAS       -0.12  0.05  -0.05  0.18  \n",
      "NOX         0.19 -0.38   0.59 -0.43  \n",
      "RM         -0.36  0.13  -0.61  0.70  \n",
      "AGE         0.26 -0.27   0.60 -0.38  \n",
      "DIS        -0.23  0.29  -0.50  0.25  \n",
      "RAD         0.46 -0.44   0.49 -0.38  \n",
      "TAX         0.46 -0.44   0.54 -0.47  \n",
      "PTRATIO     1.00 -0.18   0.37 -0.51  \n",
      "B          -0.18  1.00  -0.37  0.33  \n",
      "LSTAT       0.37 -0.37   1.00 -0.74  \n",
      "MEDV       -0.51  0.33  -0.74  1.00  \n"
     ]
    }
   ],
   "source": [
    "set_option('precision', 2)\n",
    "print(dataset.corr(method='pearson'))"
   ]
  },
  {
   "cell_type": "code",
   "execution_count": null,
   "id": "c315d28c-e73e-4cc7-bc17-1e65d2b2ab43",
   "metadata": {},
   "outputs": [],
   "source": []
  },
  {
   "cell_type": "code",
   "execution_count": null,
   "id": "0e7e4d92-96c8-4d63-aa95-2d6cce153068",
   "metadata": {},
   "outputs": [],
   "source": []
  },
  {
   "cell_type": "code",
   "execution_count": null,
   "id": "7cab373a-53ac-4461-b4c6-f71d2a125e6a",
   "metadata": {},
   "outputs": [],
   "source": []
  },
  {
   "cell_type": "code",
   "execution_count": null,
   "id": "95bdbd3f-d104-4192-bdce-cf1f9204e06a",
   "metadata": {},
   "outputs": [],
   "source": []
  },
  {
   "cell_type": "code",
   "execution_count": null,
   "id": "18431404-b203-4896-a404-14863be389e8",
   "metadata": {},
   "outputs": [],
   "source": []
  },
  {
   "cell_type": "code",
   "execution_count": null,
   "id": "2224ce45-ef59-44a9-9f80-1fabff020235",
   "metadata": {},
   "outputs": [],
   "source": []
  },
  {
   "cell_type": "code",
   "execution_count": null,
   "id": "e0126eb3-f49e-4926-854e-237209adf0db",
   "metadata": {},
   "outputs": [],
   "source": []
  },
  {
   "cell_type": "code",
   "execution_count": null,
   "id": "e37e3dec-f482-4cfa-b6f2-ede57ccd90ef",
   "metadata": {},
   "outputs": [],
   "source": []
  },
  {
   "cell_type": "code",
   "execution_count": null,
   "id": "3cff7cc0-4574-498c-ae08-4b30db1b084b",
   "metadata": {},
   "outputs": [],
   "source": []
  },
  {
   "cell_type": "code",
   "execution_count": null,
   "id": "4bde86bc-b72f-4387-90e6-cf687cb62a84",
   "metadata": {},
   "outputs": [],
   "source": []
  },
  {
   "cell_type": "code",
   "execution_count": null,
   "id": "b729fcae-65e6-41a1-a1e8-63a38931a227",
   "metadata": {},
   "outputs": [],
   "source": []
  },
  {
   "cell_type": "markdown",
   "id": "b8e62079-3dad-44f5-8655-a65f0ab9675e",
   "metadata": {},
   "source": [
    "# References"
   ]
  },
  {
   "cell_type": "code",
   "execution_count": null,
   "id": "566a5f4e-499c-4402-b9e3-d1edf47a28f4",
   "metadata": {},
   "outputs": [],
   "source": []
  },
  {
   "cell_type": "code",
   "execution_count": 112,
   "id": "a24f9e2a-9bc1-4c95-a7f7-21a739ddfafc",
   "metadata": {},
   "outputs": [],
   "source": [
    "# [1](https://scikit-learn.org/stable/tutorial/index.html)"
   ]
  },
  {
   "cell_type": "markdown",
   "id": "7bb143d3-5ca3-4d50-b75c-29b185a3791b",
   "metadata": {},
   "source": [
    "***"
   ]
  },
  {
   "cell_type": "markdown",
   "id": "0d458084-9fdc-419b-a997-2bb9cfb7c65a",
   "metadata": {},
   "source": [
    "# End"
   ]
  },
  {
   "cell_type": "code",
   "execution_count": null,
   "id": "bf376789-7624-4fe7-8831-b816b0f21a30",
   "metadata": {},
   "outputs": [],
   "source": []
  }
 ],
 "metadata": {
  "kernelspec": {
   "display_name": "Python 3",
   "language": "python",
   "name": "python3"
  },
  "language_info": {
   "codemirror_mode": {
    "name": "ipython",
    "version": 3
   },
   "file_extension": ".py",
   "mimetype": "text/x-python",
   "name": "python",
   "nbconvert_exporter": "python",
   "pygments_lexer": "ipython3",
   "version": "3.8.8"
  }
 },
 "nbformat": 4,
 "nbformat_minor": 5
}
