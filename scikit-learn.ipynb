{
 "cells": [
  {
   "cell_type": "code",
   "execution_count": 5,
   "id": "fa24553a-d7d0-4c32-bace-33ad75e2630d",
   "metadata": {},
   "outputs": [],
   "source": [
    "# Numerical arrays\n",
    "import numpy as np"
   ]
  },
  {
   "cell_type": "code",
   "execution_count": 6,
   "id": "717bdcb6-5b36-4ac3-b65b-d5daee317fa8",
   "metadata": {},
   "outputs": [],
   "source": [
    "# Data frames\n",
    "import pandas as pd"
   ]
  },
  {
   "cell_type": "code",
   "execution_count": 7,
   "id": "97c184c1-bccc-4d04-bb59-98893fe38e26",
   "metadata": {},
   "outputs": [],
   "source": [
    "# Plotting\n",
    "import matplotlib.pyplot as plt"
   ]
  },
  {
   "cell_type": "code",
   "execution_count": 8,
   "id": "bad74390-95f1-42a9-9848-5bc80c22ed4b",
   "metadata": {},
   "outputs": [],
   "source": [
    "# Fancier, statistical plots\n",
    "import seaborn as sns"
   ]
  },
  {
   "cell_type": "code",
   "execution_count": null,
   "id": "2c3ae428-02ae-4491-a3c2-cd4d422bef58",
   "metadata": {},
   "outputs": [],
   "source": []
  },
  {
   "cell_type": "markdown",
   "id": "b8e62079-3dad-44f5-8655-a65f0ab9675e",
   "metadata": {},
   "source": [
    "# References"
   ]
  },
  {
   "cell_type": "code",
   "execution_count": null,
   "id": "a24f9e2a-9bc1-4c95-a7f7-21a739ddfafc",
   "metadata": {},
   "outputs": [],
   "source": [
    "# [1](https://scikit-learn.org/stable/tutorial/index.html)"
   ]
  },
  {
   "cell_type": "markdown",
   "id": "7bb143d3-5ca3-4d50-b75c-29b185a3791b",
   "metadata": {},
   "source": [
    "***"
   ]
  },
  {
   "cell_type": "markdown",
   "id": "0d458084-9fdc-419b-a997-2bb9cfb7c65a",
   "metadata": {},
   "source": [
    "# End"
   ]
  }
 ],
 "metadata": {
  "kernelspec": {
   "display_name": "Python 3",
   "language": "python",
   "name": "python3"
  },
  "language_info": {
   "codemirror_mode": {
    "name": "ipython",
    "version": 3
   },
   "file_extension": ".py",
   "mimetype": "text/x-python",
   "name": "python",
   "nbconvert_exporter": "python",
   "pygments_lexer": "ipython3",
   "version": "3.8.8"
  }
 },
 "nbformat": 4,
 "nbformat_minor": 5
}
